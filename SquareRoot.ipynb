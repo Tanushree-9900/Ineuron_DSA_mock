{
 "cells": [
  {
   "cell_type": "code",
   "execution_count": 1,
   "id": "60f2444f-a26e-41e3-a720-a9529e715df0",
   "metadata": {},
   "outputs": [],
   "source": [
    "class Solution :\n",
    "    def mySqrt(self,x):\n",
    "        \n",
    "        if x < 2:\n",
    "            return x\n",
    "        \n",
    "        start = 0\n",
    "        end = x/2\n",
    "        \n",
    "        while (start <= end):\n",
    "            \n",
    "            mid = int((start + end) / 2)\n",
    "            \n",
    "            square = mid * mid\n",
    "            \n",
    "            if square == x:\n",
    "                return mid\n",
    "            \n",
    "            if square > x:\n",
    "                end = mid - 1\n",
    "                \n",
    "            else:\n",
    "                start = mid + 1\n",
    "                \n",
    "        return end\n",
    "    "
   ]
  },
  {
   "cell_type": "code",
   "execution_count": 2,
   "id": "ed8f5113-8f66-4c3a-a5c7-e9f52058b45a",
   "metadata": {},
   "outputs": [
    {
     "data": {
      "text/plain": [
       "2"
      ]
     },
     "execution_count": 2,
     "metadata": {},
     "output_type": "execute_result"
    }
   ],
   "source": [
    "sqr=Solution()\n",
    "sqr.mySqrt(4)"
   ]
  },
  {
   "cell_type": "code",
   "execution_count": null,
   "id": "8c7ae220-ad91-480b-83ef-c7939d606c71",
   "metadata": {},
   "outputs": [],
   "source": []
  }
 ],
 "metadata": {
  "kernelspec": {
   "display_name": "Python 3 (ipykernel)",
   "language": "python",
   "name": "python3"
  },
  "language_info": {
   "codemirror_mode": {
    "name": "ipython",
    "version": 3
   },
   "file_extension": ".py",
   "mimetype": "text/x-python",
   "name": "python",
   "nbconvert_exporter": "python",
   "pygments_lexer": "ipython3",
   "version": "3.10.6"
  }
 },
 "nbformat": 4,
 "nbformat_minor": 5
}
