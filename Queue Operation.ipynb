{
 "cells": [
  {
   "cell_type": "code",
   "execution_count": 6,
   "id": "497cb36c-a0bc-4a41-89d7-55e227b8158b",
   "metadata": {},
   "outputs": [
    {
     "name": "stdout",
     "output_type": "stream",
     "text": [
      "Queue Front : 40\n",
      "Queue Rear : 50\n"
     ]
    }
   ],
   "source": [
    "class Node:\n",
    "\n",
    "\tdef __init__(self, data):\n",
    "\t\tself.data = data\n",
    "\t\tself.next = None\n",
    "\n",
    "# A class to represent a queue\n",
    "\n",
    "# The queue, front stores the front node\n",
    "# of LL and rear stores the last node of LL\n",
    "\n",
    "\n",
    "class Queue:\n",
    "\n",
    "\tdef __init__(self):\n",
    "\t\tself.front = self.rear = None\n",
    "\n",
    "\tdef isEmpty(self):\n",
    "\t\treturn self.front == None\n",
    "\n",
    "\t# Method to add an item to the queue\n",
    "\tdef EnQueue(self, item):\n",
    "\t\ttemp = Node(item)\n",
    "\n",
    "\t\tif self.rear == None:\n",
    "\t\t\tself.front = self.rear = temp\n",
    "\t\t\treturn\n",
    "\t\tself.rear.next = temp\n",
    "\t\tself.rear = temp\n",
    "\n",
    "\t# Method to remove an item from queue\n",
    "\tdef DeQueue(self):\n",
    "\n",
    "\t\tif self.isEmpty():\n",
    "\t\t\treturn\n",
    "\t\ttemp = self.front\n",
    "\t\tself.front = temp.next\n",
    "\n",
    "\t\tif(self.front == None):\n",
    "\t\t\tself.rear = None\n",
    "\n",
    "\n",
    "# Driver Code\n",
    "if __name__ == '__main__':\n",
    "\tq = Queue()\n",
    "\tq.EnQueue(10)\n",
    "\tq.EnQueue(20)\n",
    "\tq.DeQueue()\n",
    "\tq.DeQueue()\n",
    "\tq.EnQueue(30)\n",
    "\tq.EnQueue(40)\n",
    "\tq.EnQueue(50)\n",
    "\tq.DeQueue()\n",
    "\tprint(\"Queue Front : \" + str(q.front.data if q.front != None else -1))\n",
    "\tprint(\"Queue Rear : \" + str(q.rear.data if q.rear != None else -1))\n"
   ]
  },
  {
   "cell_type": "code",
   "execution_count": null,
   "id": "e5583913-1f3f-47ad-b69f-57e8cd00abce",
   "metadata": {},
   "outputs": [],
   "source": []
  }
 ],
 "metadata": {
  "kernelspec": {
   "display_name": "Python 3 (ipykernel)",
   "language": "python",
   "name": "python3"
  },
  "language_info": {
   "codemirror_mode": {
    "name": "ipython",
    "version": 3
   },
   "file_extension": ".py",
   "mimetype": "text/x-python",
   "name": "python",
   "nbconvert_exporter": "python",
   "pygments_lexer": "ipython3",
   "version": "3.10.6"
  }
 },
 "nbformat": 4,
 "nbformat_minor": 5
}
